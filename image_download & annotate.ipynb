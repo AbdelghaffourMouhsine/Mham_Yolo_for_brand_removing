{
 "cells": [
  {
   "cell_type": "code",
   "execution_count": null,
   "id": "4bdae6e1",
   "metadata": {},
   "outputs": [],
   "source": [
    "!pip install simple_image_download==0.4"
   ]
  },
  {
   "cell_type": "code",
   "execution_count": 1,
   "id": "63d21a34",
   "metadata": {},
   "outputs": [],
   "source": [
    "# in kernel yolo_custom_venv\n",
    "from simple_image_download import simple_image_download as simp"
   ]
  },
  {
   "cell_type": "code",
   "execution_count": 4,
   "id": "6f036955",
   "metadata": {},
   "outputs": [],
   "source": [
    "response = simp.simple_image_download\n",
    "keywords = [\"traffic car\",\"car\"]"
   ]
  },
  {
   "cell_type": "code",
   "execution_count": 5,
   "id": "2a7eca3c",
   "metadata": {},
   "outputs": [
    {
     "name": "stderr",
     "output_type": "stream",
     "text": [
      "[========================================================================] 100%\n",
      "[========================================================================] 100%\n"
     ]
    }
   ],
   "source": [
    "for kw in keywords:\n",
    "    response().download(kw , 50)"
   ]
  },
  {
   "cell_type": "code",
   "execution_count": 11,
   "id": "8828f668",
   "metadata": {
    "scrolled": true
   },
   "outputs": [
    {
     "name": "stdout",
     "output_type": "stream",
     "text": [
      "Requirement already satisfied: labelImg in c:\\anaconda\\lib\\site-packages (1.8.6)\n",
      "Requirement already satisfied: pyqt5 in c:\\anaconda\\lib\\site-packages (from labelImg) (5.15.11)\n",
      "Requirement already satisfied: lxml in c:\\anaconda\\lib\\site-packages (from labelImg) (5.2.1)\n",
      "Requirement already satisfied: PyQt5-sip<13,>=12.15 in c:\\anaconda\\lib\\site-packages (from pyqt5->labelImg) (12.15.0)\n",
      "Requirement already satisfied: PyQt5-Qt5<5.16.0,>=5.15.2 in c:\\anaconda\\lib\\site-packages (from pyqt5->labelImg) (5.15.2)\n"
     ]
    }
   ],
   "source": [
    "# instalation de labelImg pour annoter les images 1.8.6\n",
    "!pip install --upgrade labelImg"
   ]
  },
  {
   "cell_type": "code",
   "execution_count": null,
   "id": "ee2c4111",
   "metadata": {},
   "outputs": [],
   "source": []
  },
  {
   "cell_type": "code",
   "execution_count": null,
   "id": "e3a34a76-5a62-408c-bf6c-551757d722cb",
   "metadata": {},
   "outputs": [],
   "source": []
  },
  {
   "cell_type": "code",
   "execution_count": 7,
   "id": "4db785ec",
   "metadata": {},
   "outputs": [
    {
     "name": "stderr",
     "output_type": "stream",
     "text": [
      "Traceback (most recent call last):\n",
      "  File \"C:\\anaconda\\Lib\\site-packages\\labelImg\\labelImg.py\", line 1014, in zoom_request\n",
      "    self.add_zoom(scale * units)\n",
      "  File \"C:\\anaconda\\Lib\\site-packages\\labelImg\\labelImg.py\", line 974, in add_zoom\n",
      "    self.set_zoom(self.zoom_widget.value() + increment)\n",
      "  File \"C:\\anaconda\\Lib\\site-packages\\labelImg\\labelImg.py\", line 971, in set_zoom\n",
      "    self.zoom_widget.setValue(value)\n",
      "TypeError: setValue(self, val: int): argument 1 has unexpected type 'float'\n"
     ]
    }
   ],
   "source": [
    "# pour lancer le programme d'annotation des images\n",
    "!labelImg"
   ]
  },
  {
   "cell_type": "raw",
   "id": "88324262-8a14-4780-baec-15da52daa781",
   "metadata": {},
   "source": [
    "pour cette error:\n",
    "\n",
    "QMimeDatabase: Error loading internal MIME data\n",
    "An error has been encountered at line 1 of <internal MIME data>: Premature end of document.:\n",
    "Traceback (most recent call last):\n",
    "  File \"C:\\anaconda\\Lib\\site-packages\\libs\\canvas.py\", line 530, in paintEvent\n",
    "    p.drawLine(self.prev_point.x(), 0, self.prev_point.x(), self.pixmap.height())\n",
    "TypeError: arguments did not match any overloaded call:\n",
    "  drawLine(self, l: QLineF): argument 1 has unexpected type 'float'\n",
    "  drawLine(self, line: QLine): argument 1 has unexpected type 'float'\n",
    "  drawLine(self, x1: int, y1: int, x2: int, y2: int): argument 1 has unexpected type 'float'\n",
    "  drawLine(self, p1: QPoint, p2: QPoint): argument 1 has unexpected type 'float'\n",
    "  drawLine(self, p1: Union[QPointF, QPoint], p2: Union[QPointF, QPoint]): argument 1 has unexpected type 'float'\n",
    "\n",
    "la solution est:\n",
    "\n",
    "Vérifier le Code Source de labelImg\n",
    "essayer de corriger le type de données utilisé dans le fichier canvas.py (C:\\anaconda\\Lib\\site-packages\\libs\\canvas.py). Il semble que la méthode paintEvent utilise des valeurs à virgule flottante, alors qu'elle doit utiliser des entiers pour dessiner les lignes.\n",
    "\n",
    "Modifie la ligne où la méthode drawLine est appelée, comme ceci :\n",
    "p.drawLine(int(self.prev_point.x()), 0, int(self.prev_point.x()), self.pixmap.height())\n",
    "\n",
    "Cette modification convertit les valeurs flottantes en entiers avec int(), ce qui devrait résoudre le problème de type."
   ]
  },
  {
   "cell_type": "code",
   "execution_count": null,
   "id": "814f98bc",
   "metadata": {},
   "outputs": [],
   "source": []
  },
  {
   "cell_type": "code",
   "execution_count": null,
   "id": "4f8ef0b7",
   "metadata": {},
   "outputs": [],
   "source": []
  }
 ],
 "metadata": {
  "kernelspec": {
   "display_name": "Python 3 (ipykernel)",
   "language": "python",
   "name": "python3"
  },
  "language_info": {
   "codemirror_mode": {
    "name": "ipython",
    "version": 3
   },
   "file_extension": ".py",
   "mimetype": "text/x-python",
   "name": "python",
   "nbconvert_exporter": "python",
   "pygments_lexer": "ipython3",
   "version": "3.12.4"
  },
  "varInspector": {
   "cols": {
    "lenName": 16,
    "lenType": 16,
    "lenVar": 40
   },
   "kernels_config": {
    "python": {
     "delete_cmd_postfix": "",
     "delete_cmd_prefix": "del ",
     "library": "var_list.py",
     "varRefreshCmd": "print(var_dic_list())"
    },
    "r": {
     "delete_cmd_postfix": ") ",
     "delete_cmd_prefix": "rm(",
     "library": "var_list.r",
     "varRefreshCmd": "cat(var_dic_list()) "
    }
   },
   "types_to_exclude": [
    "module",
    "function",
    "builtin_function_or_method",
    "instance",
    "_Feature"
   ],
   "window_display": false
  }
 },
 "nbformat": 4,
 "nbformat_minor": 5
}
